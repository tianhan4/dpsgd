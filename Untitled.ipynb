{
 "cells": [
  {
   "cell_type": "code",
   "execution_count": 1,
   "metadata": {},
   "outputs": [],
   "source": [
    "\n",
    "import tensorflow as tf"
   ]
  },
  {
   "cell_type": "code",
   "execution_count": 3,
   "metadata": {},
   "outputs": [],
   "source": [
    "def random_choice_cond(x, size):\n",
    "    tensor_size = tf.size(x)\n",
    "    indices = tf.range(0, tensor_size, dtype=tf.int64)\n",
    "    if size == 0:\n",
    "        sample_flatten_index = tf.random.shuffle(indices)[:]\n",
    "    else:     \n",
    "        sample_flatten_index = tf.random.shuffle(indices)[:size]\n",
    "    sample_index = tf.transpose(tf.unravel_index(tf.cast(sample_flatten_index,tf.int32), tf.shape(input=x))) #[[all 0-th dimension indexes], [all 1-th dimension indexes]]\n",
    "    cond = tf.scatter_nd(sample_index, tf.ones(tf.shape(input=sample_index)[0],dtype=tf.bool), tf.shape(input=x))\n",
    "    return cond"
   ]
  },
  {
   "cell_type": "code",
   "execution_count": 96,
   "metadata": {},
   "outputs": [],
   "source": [
    "a = tf.constant([[1,2,3,4,5],[6,7,8,9,10]],dtype=tf.float64)"
   ]
  },
  {
   "cell_type": "code",
   "execution_count": 97,
   "metadata": {},
   "outputs": [],
   "source": [
    "index = random_choice_cond(a,5)"
   ]
  },
  {
   "cell_type": "code",
   "execution_count": 98,
   "metadata": {},
   "outputs": [
    {
     "data": {
      "text/plain": [
       "<tf.Tensor: shape=(5, 2), dtype=int64, numpy=\n",
       "array([[0, 2],\n",
       "       [0, 4],\n",
       "       [1, 0],\n",
       "       [1, 1],\n",
       "       [1, 3]])>"
      ]
     },
     "execution_count": 98,
     "metadata": {},
     "output_type": "execute_result"
    }
   ],
   "source": [
    "tf.where(index)"
   ]
  },
  {
   "cell_type": "code",
   "execution_count": 103,
   "metadata": {},
   "outputs": [
    {
     "data": {
      "text/plain": [
       "<tf.Tensor: shape=(2, 5), dtype=float64, numpy=\n",
       "array([[ 1.,  2.,  3.,  4.,  5.],\n",
       "       [ 6.,  7.,  8.,  9., 10.]])>"
      ]
     },
     "execution_count": 103,
     "metadata": {},
     "output_type": "execute_result"
    }
   ],
   "source": [
    "tf.constant(a.numpy())"
   ]
  },
  {
   "cell_type": "code",
   "execution_count": null,
   "metadata": {},
   "outputs": [],
   "source": []
  },
  {
   "cell_type": "code",
   "execution_count": 99,
   "metadata": {},
   "outputs": [
    {
     "data": {
      "text/plain": [
       "<tf.Tensor: shape=(5,), dtype=float64, numpy=array([3., 5., 6., 7., 9.])>"
      ]
     },
     "execution_count": 99,
     "metadata": {},
     "output_type": "execute_result"
    }
   ],
   "source": [
    "a[index]"
   ]
  },
  {
   "cell_type": "code",
   "execution_count": 100,
   "metadata": {},
   "outputs": [],
   "source": [
    "b = tf.clip_by_global_norm([a[index]], 5)[0]"
   ]
  },
  {
   "cell_type": "code",
   "execution_count": 101,
   "metadata": {},
   "outputs": [
    {
     "data": {
      "text/plain": [
       "<tf.Tensor: shape=(2, 5), dtype=float64, numpy=\n",
       "array([[ 1.        ,  2.        ,  1.06066017,  4.        ,  1.76776695],\n",
       "       [ 2.12132034,  2.47487373,  8.        ,  3.18198052, 10.        ]])>"
      ]
     },
     "execution_count": 101,
     "metadata": {},
     "output_type": "execute_result"
    }
   ],
   "source": [
    "tf.tensor_scatter_nd_update(a, tf.where(index), b[0])"
   ]
  },
  {
   "cell_type": "code",
   "execution_count": null,
   "metadata": {},
   "outputs": [],
   "source": [
    "\n",
    "# Compute the per-microbatch losses using helpful jacobian method.\n",
    "with tf.keras.backend.name_scope(self._name + '/gradients'):\n",
    "jacobian = tape.jacobian(microbatch_losses, var_list)\n",
    "\n",
    "# Clip gradients to given l2_norm_clip.\n",
    "def clip_gradients(g):\n",
    "  return tf.clip_by_global_norm(g, self._l2_norm_clip)[0]\n",
    "\n",
    "clipped_gradients = tf.map_fn(clip_gradients, jacobian)\n",
    "\n",
    "def reduce_noise_normalize_batch(self, g, is_considered):\n",
    "  # Sum gradients over all microbatches.\n",
    "  summed_gradient = tf.reduce_sum(g, axis=0)\n",
    "\n",
    "  # Sample the indexes\n",
    "  if not self.samples_cond:\n",
    "    sampled_cond = random_choice_cond(summed_gradient, self._num_parameters)\n",
    "    self.samples_cond = sampled_cond\n",
    "  else:\n",
    "    sampled_cond = self.samples_cond     \n",
    "  is_linear = tf.rank(input=g) > 2\n",
    "  if self.noise_layer_type == 'linear':\n",
    "    sampled_cond = tf.math.logical_or(sampled_cond, tf.math.logical_not(is_linear))\n",
    "    #sampled_cond = tf.math.logical_and(sampled_cond, is_linear)\n",
    "  elif self.noise_layer_type == 'bias':\n",
    "    sampled_cond = tf.math.logical_or(sampled_cond, is_linear)\n",
    "    #sampled_cond = tf.math.logical_and(sampled_cond, tf.math.logical_not(is_linear))\n",
    "  else:\n",
    "    assert(False)\n",
    "  # Add noise to summed gradients.\n",
    "  noise_stddev = self._l2_norm_clip * self._noise_multiplier\n",
    "  noise = tf.random.normal(\n",
    "      tf.shape(input=summed_gradient), stddev=noise_stddev)\n",
    "  noised_gradient = tf.add(summed_gradient, noise)\n",
    "  #tf.print(\"num of noise:\", tf.math.reduce_sum(tf.cast(tf.math.logical_or(sampled_cond, tf.math.logical_not(is_considered)), tf.int32)))\n",
    "  fixed_gradient = tf.where(tf.math.logical_or(sampled_cond, tf.math.logical_not(is_considered)), noised_gradient, summed_gradient)\n",
    "  # Normalize by number of microbatches and return.\n",
    "  return tf.truediv(fixed_gradient, self._num_microbatches)\n",
    "\n",
    "\n",
    "final_gradients = [reduce_noise_normalize_batch(self, clipped_gradients[i], is_considered[i]) for i in range(len(clipped_gradients))]\n"
   ]
  }
 ],
 "metadata": {
  "kernelspec": {
   "display_name": "Python 3",
   "language": "python",
   "name": "python3"
  },
  "language_info": {
   "codemirror_mode": {
    "name": "ipython",
    "version": 3
   },
   "file_extension": ".py",
   "mimetype": "text/x-python",
   "name": "python",
   "nbconvert_exporter": "python",
   "pygments_lexer": "ipython3",
   "version": "3.7.9"
  }
 },
 "nbformat": 4,
 "nbformat_minor": 4
}
